{
 "cells": [
  {
   "cell_type": "code",
   "execution_count": null,
   "metadata": {},
   "outputs": [],
   "source": [
    "import requests\n",
    "from requests.structures import CaseInsensitiveDict\n",
    "import pandas as pd\n",
    "from urllib.error import HTTPError\n",
    "import sys"
   ]
  },
  {
   "cell_type": "code",
   "execution_count": null,
   "metadata": {},
   "outputs": [],
   "source": [
    "API = \"https://api.elections.org.za\"\r\n",
    "token = ''\r\n",
    "headers = CaseInsensitiveDict()\r\n",
    "headers[\"Authorization\"] = \"Bearer \" + token\r\n",
    "headers[\"Accept\"] = \"application/json\""
   ]
  },
  {
   "cell_type": "code",
   "execution_count": null,
   "metadata": {},
   "outputs": [],
   "source": [
    "ElectoralEventID = '402'\n",
    "Provinces = []\n",
    "Municipalities = []\n",
    "Wards = []"
   ]
  },
  {
   "cell_type": "code",
   "execution_count": null,
   "metadata": {},
   "outputs": [],
   "source": [
    "# GET PROVINCES FOR EVENT\n",
    "\n",
    "req = requests.get(API + '/api/Delimitation/ElectoralEventID/' + ElectoralEventID, headers=headers)\n",
    "Provinces = req.json()\n",
    "Provinces"
   ]
  },
  {
   "cell_type": "code",
   "execution_count": null,
   "metadata": {},
   "outputs": [],
   "source": [
    "# GET MUNICIPALITIES FOR EVENT\n",
    "\n",
    "for province in Provinces:\n",
    "    print(province['Province'])\n",
    "    req = requests.get(API + '/api/Delimitation/ElectoralEventID/' + ElectoralEventID + '/ProvinceID/' + str(province['ProvinceID']), headers=headers)\n",
    "    munis = req.json()\n",
    "\n",
    "    for muni in munis:\n",
    "        Municipalities.append(muni)\n",
    "\n",
    "print('Saving to CSV...')\n",
    "munis_df = pd.DataFrame(Municipalities)    \n",
    "munis_df.to_csv('Munis.csv', index=False)\n",
    "print('Done')"
   ]
  },
  {
   "cell_type": "code",
   "execution_count": null,
   "metadata": {},
   "outputs": [],
   "source": [
    "# GET WARDS FOR MUNICIPALITIES\n",
    "\n",
    "for muni in Municipalities:\n",
    "    req = requests.get(API + '/api/Delimitation/ElectoralEventID/' + ElectoralEventID + '/ProvinceID/' + str(muni['ProvinceID']) + '/MunicipalityID/' + str(muni['MunicipalityID']), headers=headers)\n",
    "    if(req.status_code == 200):\n",
    "        wards = req.json()\n",
    "\n",
    "        print(wards)\n",
    "    \n",
    "        for ward in wards:\n",
    "            Wards.append(ward)\n",
    "        \n",
    "print('Saving to CSV...')\n",
    "wards_df = pd.DataFrame(Wards)    \n",
    "wards_df.to_csv('Wards.csv', index=False)\n",
    "print('Done')"
   ]
  }
 ],
 "metadata": {
  "kernelspec": {
   "display_name": "Python 3 (ipykernel)",
   "language": "python",
   "name": "python3"
  },
  "language_info": {
   "codemirror_mode": {
    "name": "ipython",
    "version": 3
   },
   "file_extension": ".py",
   "mimetype": "text/x-python",
   "name": "python",
   "nbconvert_exporter": "python",
   "pygments_lexer": "ipython3",
   "version": "3.7.1"
  }
 },
 "nbformat": 4,
 "nbformat_minor": 5
}