{
 "cells": [
  {
   "cell_type": "code",
   "execution_count": null,
   "id": "3565a354",
   "metadata": {},
   "outputs": [],
   "source": [
    "import pandas as pd\n",
    "import requests\n",
    "import aiohttp\n",
    "import asyncio\n",
    "import json\n",
    "import os\n",
    "import sys\n",
    "from aiohttp import ClientSession\n",
    "from urllib.error import HTTPError"
   ]
  },
  {
   "cell_type": "code",
   "execution_count": null,
   "id": "c2a09c51",
   "metadata": {},
   "outputs": [],
   "source": [
    "API = \"https://api.elections.org.za\"\r\n",
    "token = ''\r\n",
    "headers = {\"Authorization\": \"Bearer \" + token}"
   ]
  },
  {
   "cell_type": "code",
   "execution_count": null,
   "id": "7d606380",
   "metadata": {},
   "outputs": [],
   "source": [
    "Councillors = []"
   ]
  },
  {
   "cell_type": "code",
   "execution_count": null,
   "id": "3a14eeaa",
   "metadata": {},
   "outputs": [],
   "source": [
    "wards_df = pd.read_csv('Wards.csv')\n",
    "Wards = wards_df.values.tolist()\n",
    "Wards"
   ]
  },
  {
   "cell_type": "code",
   "execution_count": null,
   "id": "bc45ef9a",
   "metadata": {},
   "outputs": [],
   "source": [
    "async def get_data(endpoint, query, session):\n",
    "    url = API + endpoint + str(query)\n",
    "    try:\n",
    "        response = await session.request(method='GET', url=url, headers=headers)\n",
    "        response.raise_for_status()\n",
    "    except HTTPError as http_err:\n",
    "        print(f\"HTTP error occurred: {http_err}\")\n",
    "    except Exception as err:\n",
    "        print(f\"An error ocurred: {err}\")\n",
    "    response_json = await response.json()\n",
    "    return response_json"
   ]
  },
  {
   "cell_type": "code",
   "execution_count": null,
   "id": "4c4b76d8",
   "metadata": {},
   "outputs": [],
   "source": [
    "async def run_program(endpoint, query, session):\n",
    "    try:\n",
    "        response = await get_data(endpoint, query, session)\n",
    "        print(str(response['Delimitation']['ProvinceID']) + ' - ' + str(response['Delimitation']['MunicipalityID']) + ' - ' + str(response['Delimitation']['WardID']), end='\\r')\n",
    "        sys.stdout.flush()\n",
    "        Councillors.append(\n",
    "            {\n",
    "                'Name': response['Name'],\n",
    "                'ProvinceID': response['Delimitation']['ProvinceID'],\n",
    "                'MunicipalityID': response['Delimitation']['MunicipalityID'],\n",
    "                'WardID': response['Delimitation']['WardID'],\n",
    "                'VDNumber': response['Delimitation']['VDNumber'],\n",
    "                'PartyID': response['PartyDetail']['ID'],\n",
    "                'Party': response['PartyDetail']['Name'],\n",
    "                'PartyAbbreviation': response['PartyDetail']['Abbreviation'],\n",
    "                'ContactPerson': response['Municipality']['ContactDetails']['ContactPerson'],\n",
    "                'Tel': response['Municipality']['ContactDetails']['Tel'],\n",
    "                'Fax': response['Municipality']['ContactDetails']['Fax'],\n",
    "                'PostalAddress': response['Municipality']['ContactDetails']['PostalAddress'],\n",
    "                'WebsiteUrl': response['Municipality']['ContactDetails']['WebsiteUrl']\n",
    "            }\n",
    "        )\n",
    "    except Exception as err:\n",
    "        print(f\"Exception occured: {err}\")\n",
    "        pass"
   ]
  },
  {
   "cell_type": "code",
   "execution_count": null,
   "id": "0704c655",
   "metadata": {},
   "outputs": [],
   "source": [
    "async with ClientSession() as session:\n",
    "    await asyncio.gather(*[run_program('/api/LGEWardCouncilor/WardID/', ward[2], session) for ward in Wards])\n",
    "    sys.stdout.flush()\n",
    "    print('Saving to CSV...')\n",
    "    councillors_df = pd.DataFrame(Councillors) \n",
    "    councillors_df.to_csv('Councillors.csv', index=False)\n",
    "    print('Done')"
   ]
  }
 ],
 "metadata": {
  "interpreter": {
   "hash": "fbff9bfab3ee0df4124016b4e010029cf2ec5864ce5e3c4aa09796cc364af95f"
  },
  "kernelspec": {
   "display_name": "Python 3 (ipykernel)",
   "language": "python",
   "name": "python3"
  },
  "language_info": {
   "codemirror_mode": {
    "name": "ipython",
    "version": 3
   },
   "file_extension": ".py",
   "mimetype": "text/x-python",
   "name": "python",
   "nbconvert_exporter": "python",
   "pygments_lexer": "ipython3",
   "version": "3.7.1"
  }
 },
 "nbformat": 4,
 "nbformat_minor": 5
}
